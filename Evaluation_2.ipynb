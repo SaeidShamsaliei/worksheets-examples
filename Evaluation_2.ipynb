{
  "nbformat": 4,
  "nbformat_minor": 0,
  "metadata": {
    "colab": {
      "name": "Evaluation_2.ipynb",
      "provenance": [],
      "collapsed_sections": [],
      "authorship_tag": "ABX9TyMeeKk82Yb7Fkd5zVyGkghD",
      "include_colab_link": true
    },
    "kernelspec": {
      "name": "python3",
      "display_name": "Python 3"
    }
  },
  "cells": [
    {
      "cell_type": "markdown",
      "metadata": {
        "id": "view-in-github",
        "colab_type": "text"
      },
      "source": [
        "<a href=\"https://colab.research.google.com/github/SaeidShamsaliei/worksheets-examples/blob/master/Evaluation_2.ipynb\" target=\"_parent\"><img src=\"https://colab.research.google.com/assets/colab-badge.svg\" alt=\"Open In Colab\"/></a>"
      ]
    },
    {
      "cell_type": "code",
      "metadata": {
        "id": "UNeXV5IDIEVT",
        "colab_type": "code",
        "outputId": "bf7c704b-4a50-4241-bee3-5812ebef7f3c",
        "colab": {
          "base_uri": "https://localhost:8080/",
          "height": 33
        }
      },
      "source": [
        "from google.colab import drive\n",
        "drive.mount('/content/drive')"
      ],
      "execution_count": 96,
      "outputs": [
        {
          "output_type": "stream",
          "text": [
            "Drive already mounted at /content/drive; to attempt to forcibly remount, call drive.mount(\"/content/drive\", force_remount=True).\n"
          ],
          "name": "stdout"
        }
      ]
    },
    {
      "cell_type": "code",
      "metadata": {
        "id": "xSeByrSdIL6d",
        "colab_type": "code",
        "colab": {}
      },
      "source": [
        "import numpy as np\n",
        "import os\n",
        "import matplotlib.pyplot as plt\n",
        "import sys\n",
        "import keras\n",
        "import pandas as pd\n",
        "import numpy as np\n",
        "from keras.datasets import mnist"
      ],
      "execution_count": 0,
      "outputs": []
    },
    {
      "cell_type": "markdown",
      "metadata": {
        "id": "_WYjjUpyG90M",
        "colab_type": "text"
      },
      "source": [
        "#Load the MNIST"
      ]
    },
    {
      "cell_type": "code",
      "metadata": {
        "id": "PHZatDtKFw6t",
        "colab_type": "code",
        "colab": {}
      },
      "source": [
        "(X_train, y_train), (X_test, y_test) = mnist.load_data() "
      ],
      "execution_count": 0,
      "outputs": []
    },
    {
      "cell_type": "code",
      "metadata": {
        "id": "fyuqTMXSF0Uj",
        "colab_type": "code",
        "colab": {}
      },
      "source": [
        "X_test = X_test.reshape(X_test.shape[0], 28, 28, 1)"
      ],
      "execution_count": 0,
      "outputs": []
    },
    {
      "cell_type": "markdown",
      "metadata": {
        "id": "qSuWxcfjHDDk",
        "colab_type": "text"
      },
      "source": [
        "#Load the CSV files"
      ]
    },
    {
      "cell_type": "code",
      "metadata": {
        "id": "1G_hmMgrIejS",
        "colab_type": "code",
        "colab": {}
      },
      "source": [
        "# the directory in which results are stored\n",
        "main_folder = \"/content/drive/My Drive/AI reproducibility/Machine Learning Platform/results\""
      ],
      "execution_count": 0,
      "outputs": []
    },
    {
      "cell_type": "code",
      "metadata": {
        "id": "KoVr72R2Igyd",
        "colab_type": "code",
        "outputId": "7b57c3fc-9209-4c62-9edd-5204343a161c",
        "colab": {
          "base_uri": "https://localhost:8080/",
          "height": 33
        }
      },
      "source": [
        "#getting the test labels\n",
        "file_name_test = main_folder + \"/\" + \"mnist_test.csv\"\n",
        "test_data = np.loadtxt(file_name_test, dtype=\"int\", delimiter=\",\", skiprows=1)\n",
        "test_labels = test_data[:,0]\n",
        "print(test_labels)"
      ],
      "execution_count": 101,
      "outputs": [
        {
          "output_type": "stream",
          "text": [
            "[7 2 1 ... 4 5 6]\n"
          ],
          "name": "stdout"
        }
      ]
    },
    {
      "cell_type": "code",
      "metadata": {
        "id": "wUpVVmUZIi7A",
        "colab_type": "code",
        "colab": {}
      },
      "source": [
        "platform_folder_comet = \"comet.ml\"\n",
        "platform_folder_coda = \"codalab\"\n",
        "platform_folder_floyd = \"floydhub\"\n",
        "platform_folder_kaggle = \"kaggle\""
      ],
      "execution_count": 0,
      "outputs": []
    },
    {
      "cell_type": "code",
      "metadata": {
        "id": "ms2MGorcfBzL",
        "colab_type": "code",
        "colab": {}
      },
      "source": [
        "experiment_folder1 = \"CPU\"\n",
        "experiment_folder2 = \"GPU\"\n",
        "seed_folder1 = \"seed\"\n",
        "seed_folder2 = \"no seed\""
      ],
      "execution_count": 0,
      "outputs": []
    },
    {
      "cell_type": "code",
      "metadata": {
        "id": "KEvxsQOufEk_",
        "colab_type": "code",
        "colab": {}
      },
      "source": [
        "folder_dir1_kaggle = main_folder+ \"/\" + platform_folder_kaggle + \"/\" + seed_folder1 + \"/\" + experiment_folder1\n",
        "folder_dir2_kaggle = main_folder+ \"/\" + platform_folder_kaggle + \"/\" + seed_folder1 + \"/\" + experiment_folder2\n",
        "folder_dir3_kaggle = main_folder+ \"/\" + platform_folder_kaggle + \"/\" + seed_folder2 + \"/\" + experiment_folder1\n",
        "folder_dir4_kaggle = main_folder+ \"/\" + platform_folder_kaggle + \"/\" + seed_folder2 + \"/\" + experiment_folder2\n",
        "\n",
        "folder_dir1_floyd = main_folder+ \"/\" + platform_folder_floyd + \"/\" + seed_folder1 + \"/\" + experiment_folder1\n",
        "folder_dir2_floyd = main_folder+ \"/\" + platform_folder_floyd + \"/\" + seed_folder1 + \"/\" + experiment_folder2\n",
        "folder_dir3_floyd = main_folder+ \"/\" + platform_folder_floyd + \"/\" + seed_folder2 + \"/\" + experiment_folder1\n",
        "folder_dir4_floyd = main_folder+ \"/\" + platform_folder_floyd + \"/\" + seed_folder2 + \"/\" + experiment_folder2\n",
        "\n",
        "folder_dir1_coda = main_folder+ \"/\" + platform_folder_coda + \"/\" + seed_folder1 + \"/\" + experiment_folder1\n",
        "folder_dir2_coda = main_folder+ \"/\" + platform_folder_coda + \"/\" + seed_folder1 + \"/\" + experiment_folder2\n",
        "folder_dir3_coda = main_folder+ \"/\" + platform_folder_coda + \"/\" + seed_folder2 + \"/\" + experiment_folder1\n",
        "folder_dir4_coda = main_folder+ \"/\" + platform_folder_coda + \"/\" + seed_folder2 + \"/\" + experiment_folder2\n",
        "\n",
        "# cometml on cpu and gpu like the rest of the experiments\n",
        "folder_dir1_comet_norm = main_folder+ \"/\" + platform_folder_comet + \"/\" + seed_folder1 + \"/\" + experiment_folder1\n",
        "folder_dir2_comet_norm = main_folder+ \"/\" + platform_folder_comet + \"/\" + seed_folder1 + \"/\" + experiment_folder2\n",
        "folder_dir3_comet_norm = main_folder+ \"/\" + platform_folder_comet + \"/\" + seed_folder2 + \"/\" + experiment_folder1\n",
        "folder_dir4_comet_norm = main_folder+ \"/\" + platform_folder_comet + \"/\" + seed_folder2 + \"/\" + experiment_folder2"
      ],
      "execution_count": 0,
      "outputs": []
    },
    {
      "cell_type": "code",
      "metadata": {
        "id": "oBn9EXrdfOT2",
        "colab_type": "code",
        "colab": {}
      },
      "source": [
        "# creating a list of csv files\n",
        "def make_list(folder_dir1):\n",
        "    folder_contents1 = os.listdir(folder_dir1)\n",
        "    image_list1 = []\n",
        "    for el in folder_contents1:\n",
        "        if el.endswith(\".csv\"):\n",
        "            file_name = str(folder_dir1) + \"/\" + str(el)\n",
        "            image = np.loadtxt(file_name, dtype=\"int\", delimiter=\",\", skiprows=1)\n",
        "            image_list1.append(image)\n",
        "    return(image_list1)"
      ],
      "execution_count": 0,
      "outputs": []
    },
    {
      "cell_type": "code",
      "metadata": {
        "id": "qnpIGcfkqdiy",
        "colab_type": "code",
        "colab": {}
      },
      "source": [
        "image_list1_kaggle = make_list(folder_dir1_kaggle)\n",
        "image_list2_kaggle = make_list(folder_dir2_kaggle)\n",
        "image_list3_kaggle = make_list(folder_dir3_kaggle)\n",
        "image_list4_kaggle = make_list(folder_dir4_kaggle)\n",
        "\n",
        "\n",
        "image_list1_comet = make_list(folder_dir1_comet_norm)\n",
        "image_list2_comet = make_list(folder_dir2_comet_norm)\n",
        "image_list3_comet = make_list(folder_dir3_comet_norm)\n",
        "image_list4_comet = make_list(folder_dir4_comet_norm)\n",
        "\n",
        "image_list1_floyd = make_list(folder_dir1_floyd)\n",
        "image_list2_floyd = make_list(folder_dir2_floyd)\n",
        "image_list3_floyd = make_list(folder_dir3_floyd)\n",
        "image_list4_floyd = make_list(folder_dir4_floyd)\n",
        "\n",
        "image_list1_coda = make_list(folder_dir1_coda)\n",
        "image_list2_coda = make_list(folder_dir2_coda)\n",
        "image_list3_coda = make_list(folder_dir3_coda)\n",
        "image_list4_coda = make_list(folder_dir4_coda)"
      ],
      "execution_count": 0,
      "outputs": []
    },
    {
      "cell_type": "markdown",
      "metadata": {
        "id": "GBlAnFm6-x9E",
        "colab_type": "text"
      },
      "source": [
        "#Making new numpy arrays\n",
        "## one for each experiment"
      ]
    },
    {
      "cell_type": "markdown",
      "metadata": {
        "id": "4trERb-B-8qs",
        "colab_type": "text"
      },
      "source": [
        "kaggle"
      ]
    },
    {
      "cell_type": "code",
      "metadata": {
        "id": "gvLaicIxsLXT",
        "colab_type": "code",
        "colab": {}
      },
      "source": [
        "# make a list of kaggels\n",
        "kaggle_temp = image_list1_kaggle + image_list2_kaggle + image_list3_kaggle + image_list4_kaggle\n",
        "\n",
        "# convert it to numpy array\n",
        "kaggle_temp = np.array(kaggle_temp)\n",
        "\n",
        "# make a new list []\n",
        "kaggle_arr = np.zeros((20,10000))\n",
        "kaggle_label = np.zeros((1,10000)) # 1.all agree  2. all disagree  3. between\n",
        "\n",
        "# the first 20 dim is the value\n",
        "kaggle_arr = kaggle_temp[:,:,1]"
      ],
      "execution_count": 0,
      "outputs": []
    },
    {
      "cell_type": "markdown",
      "metadata": {
        "id": "nxPZbg5n--ct",
        "colab_type": "text"
      },
      "source": [
        "comet"
      ]
    },
    {
      "cell_type": "code",
      "metadata": {
        "id": "sUJqqItx_I11",
        "colab_type": "code",
        "colab": {}
      },
      "source": [
        "# make a list of kaggels\n",
        "comet_temp = image_list1_comet + image_list2_comet + image_list3_comet + image_list4_comet\n",
        "\n",
        "# convert it to numpy array\n",
        "comet_temp = np.array(comet_temp)\n",
        "\n",
        "# make a new list []\n",
        "comet_arr = np.zeros((20,10000))\n",
        "comet_label = np.zeros((1,10000)) # 1.all agree  2. all disagree  3. between\n",
        "\n",
        "# the first 20 dim is the value\n",
        "comet_arr = comet_temp[:,:,1]"
      ],
      "execution_count": 0,
      "outputs": []
    },
    {
      "cell_type": "markdown",
      "metadata": {
        "id": "da9Fgr_l_Ks2",
        "colab_type": "text"
      },
      "source": [
        "floyd"
      ]
    },
    {
      "cell_type": "code",
      "metadata": {
        "id": "-9MaR4Gy_Mrl",
        "colab_type": "code",
        "colab": {}
      },
      "source": [
        "# make a list of kaggels\n",
        "floyd_temp = image_list1_floyd + image_list2_floyd + image_list3_floyd + image_list4_floyd\n",
        "\n",
        "# convert it to numpy array\n",
        "floyd_temp = np.array(floyd_temp)\n",
        "\n",
        "# make a new list []\n",
        "floyd_arr = np.zeros((20,10000))\n",
        "floyd_label = np.zeros((1,10000)) # 1.all agree  2. all disagree  3. between\n",
        "\n",
        "# the first 20 dim is the value\n",
        "floyd_arr = floyd_temp[:,:,1]"
      ],
      "execution_count": 0,
      "outputs": []
    },
    {
      "cell_type": "markdown",
      "metadata": {
        "id": "cGXOQQg3_Q4X",
        "colab_type": "text"
      },
      "source": [
        "coda"
      ]
    },
    {
      "cell_type": "code",
      "metadata": {
        "id": "t-uw-Gu6_Wzt",
        "colab_type": "code",
        "colab": {}
      },
      "source": [
        "# make a list of kaggels\n",
        "coda_temp = image_list1_coda + image_list2_coda + image_list3_coda + image_list4_coda\n",
        "\n",
        "# convert it to numpy array\n",
        "coda_temp = np.array(coda_temp)\n",
        "\n",
        "# make a new list []\n",
        "coda_arr = np.zeros((20,10000))\n",
        "coda_label = np.zeros((1,10000)) # 1.all agree  2. all disagree  3. between\n",
        "\n",
        "# the first 20 dim is the value\n",
        "coda_arr = coda_temp[:,:,1]"
      ],
      "execution_count": 0,
      "outputs": []
    },
    {
      "cell_type": "markdown",
      "metadata": {
        "id": "x87BaJ7X_kz-",
        "colab_type": "text"
      },
      "source": [
        "# classification of results into 3 categories\n",
        "##0. agree and correct\n",
        "##1. agree and incorrect\n",
        "##2. disagree and correct"
      ]
    },
    {
      "cell_type": "code",
      "metadata": {
        "id": "S7v1n64ys39U",
        "colab_type": "code",
        "colab": {}
      },
      "source": [
        "def compare_risult(pred_arr, label):\n",
        "  counter = 0\n",
        "  data_class = np.zeros((1,pred_arr.shape[1])) # 1.all agree  2. all disagree  3. between\n",
        "  for i in range(pred_arr.shape[1]):\n",
        "    agree_flag = True\n",
        "    correct_flag = False\n",
        "    num_class = np.unique(pred_arr[:,i]).shape[0]\n",
        "    # if they dissagree together\n",
        "    if(num_class > 1):\n",
        "      agree_flag = False\n",
        "      correct_flag = False\n",
        "    \n",
        "    else:\n",
        "      agree_flag = True\n",
        "      # check if this is correct\n",
        "      if(pred_arr[0,i] == label[i]):\n",
        "        correct_flag = True\n",
        "      else:\n",
        "        correct_flag = False\n",
        "    \n",
        "    # classifiy:\n",
        "    if agree_flag and correct_flag:\n",
        "      data_class[0,i] = 0\n",
        "      # counter += 1\n",
        "    elif agree_flag and not correct_flag:\n",
        "      data_class[0,i] = 1\n",
        "      # counter += 1\n",
        "    else:\n",
        "      data_class[0,i] = 2\n",
        "      # counter += 1\n",
        "  return data_class"
      ],
      "execution_count": 0,
      "outputs": []
    },
    {
      "cell_type": "code",
      "metadata": {
        "id": "CldYJrvj_euQ",
        "colab_type": "code",
        "colab": {}
      },
      "source": [
        "kaggle_label = compare_risult(kaggle_arr, test_labels)\n",
        "coda_label = compare_risult(coda_arr, test_labels)\n",
        "comet_label = compare_risult(comet_arr, test_labels)\n",
        "floyd_label = compare_risult(floyd_arr, test_labels)"
      ],
      "execution_count": 0,
      "outputs": []
    },
    {
      "cell_type": "code",
      "metadata": {
        "id": "LxhiZ4m431js",
        "colab_type": "code",
        "colab": {}
      },
      "source": [
        "def show_resutl(data_arr, label_arr, class_arr, mood=2):\n",
        "  for i in range(class_arr.shape[1]):\n",
        "    if class_arr[0,i] == mood:\n",
        "      print(\" ID: {:4d}  Data:{}  Label:{}\".format(i, data_arr[:,i], label_arr[i]))"
      ],
      "execution_count": 0,
      "outputs": []
    },
    {
      "cell_type": "code",
      "metadata": {
        "id": "M818RBwz7b9b",
        "colab_type": "code",
        "colab": {
          "base_uri": "https://localhost:8080/",
          "height": 1000
        },
        "outputId": "625bf260-2571-45e5-d39f-d5e3b30a982c"
      },
      "source": [
        "show_resutl(coda_arr, test_labels, coda_label, 2)"
      ],
      "execution_count": 115,
      "outputs": [
        {
          "output_type": "stream",
          "text": [
            " ID:   18  Data:[3 3 3 3 3 3 3 3 3 3 3 5 3 3 5 3 5 3 3 3]  Label:3\n",
            " ID:   62  Data:[9 9 9 9 9 5 5 5 5 5 5 9 9 9 9 5 5 9 9 5]  Label:9\n",
            " ID:  115  Data:[4 4 4 4 4 4 4 4 4 4 9 4 4 4 4 4 4 4 4 4]  Label:4\n",
            " ID:  247  Data:[2 2 2 2 2 2 2 2 2 2 4 2 2 4 4 6 4 4 6 4]  Label:4\n",
            " ID:  259  Data:[0 0 0 0 0 0 0 0 0 0 0 6 0 6 6 0 6 0 6 6]  Label:6\n",
            " ID:  282  Data:[7 7 7 7 7 7 7 7 7 7 3 7 7 7 7 7 7 7 7 7]  Label:7\n",
            " ID:  320  Data:[9 9 9 9 9 9 9 8 9 9 9 8 9 8 8 9 8 9 9 9]  Label:9\n",
            " ID:  321  Data:[2 2 2 2 2 2 2 2 2 2 7 2 7 2 7 2 2 7 7 7]  Label:2\n",
            " ID:  340  Data:[3 3 3 3 3 5 5 5 5 5 5 5 5 5 5 5 5 5 5 5]  Label:5\n",
            " ID:  359  Data:[9 9 9 9 9 9 9 9 9 9 9 9 9 9 4 9 9 9 4 9]  Label:9\n",
            " ID:  445  Data:[0 0 0 0 0 0 0 0 0 0 0 0 0 0 0 0 6 0 0 0]  Label:6\n",
            " ID:  449  Data:[3 3 3 3 3 3 3 3 3 3 5 5 5 5 3 3 5 3 5 5]  Label:3\n",
            " ID:  495  Data:[8 8 8 8 8 8 8 8 8 8 0 6 8 0 8 8 8 8 8 8]  Label:8\n",
            " ID:  571  Data:[4 4 4 4 4 4 4 4 4 4 4 4 4 9 4 4 4 4 4 4]  Label:4\n",
            " ID:  582  Data:[2 2 2 2 2 2 2 2 2 2 3 2 2 3 2 2 2 2 2 2]  Label:8\n",
            " ID:  619  Data:[1 1 1 1 1 1 1 1 1 1 8 1 1 1 1 1 1 1 1 1]  Label:1\n",
            " ID:  646  Data:[2 2 2 2 2 2 2 2 2 2 2 2 2 4 2 2 2 2 2 2]  Label:2\n",
            " ID:  659  Data:[1 1 1 1 1 2 2 2 2 2 2 2 2 1 7 2 7 2 2 1]  Label:2\n",
            " ID:  684  Data:[7 7 7 7 7 7 7 7 7 7 3 7 7 3 7 3 7 3 3 7]  Label:7\n",
            " ID:  717  Data:[0 0 0 0 0 0 0 0 5 5 0 5 0 0 5 0 0 5 0 0]  Label:0\n",
            " ID:  720  Data:[8 8 8 8 8 5 5 5 5 5 5 5 5 5 5 5 5 5 5 5]  Label:5\n",
            " ID:  726  Data:[7 7 7 7 7 7 7 7 7 7 7 7 7 7 7 7 7 7 7 5]  Label:7\n",
            " ID:  740  Data:[9 9 9 9 9 9 9 4 9 4 9 9 9 9 4 4 9 9 4 4]  Label:4\n",
            " ID:  844  Data:[8 8 8 8 8 8 8 8 8 8 8 8 8 8 7 8 8 8 8 8]  Label:8\n",
            " ID:  882  Data:[9 9 9 9 9 9 9 9 9 9 9 9 9 9 9 9 9 9 7 9]  Label:9\n",
            " ID:  900  Data:[1 1 1 1 1 1 1 1 1 1 3 1 1 1 1 1 1 1 1 1]  Label:1\n",
            " ID:  924  Data:[2 2 2 2 2 2 2 2 2 2 2 2 7 2 2 2 7 2 2 2]  Label:2\n",
            " ID:  938  Data:[3 3 3 3 3 3 3 3 3 3 5 5 5 5 3 3 5 5 5 3]  Label:3\n",
            " ID:  965  Data:[6 6 6 6 6 6 0 6 0 0 6 6 6 6 6 6 6 6 6 6]  Label:6\n",
            " ID: 1033  Data:[8 8 8 8 8 8 8 8 8 8 8 1 1 8 8 8 1 8 8 8]  Label:8\n",
            " ID: 1039  Data:[1 1 1 1 1 3 3 3 2 3 3 3 3 7 3 3 2 3 1 2]  Label:7\n",
            " ID: 1062  Data:[7 7 7 7 7 3 7 7 7 3 7 3 7 3 7 3 3 3 3 3]  Label:3\n",
            " ID: 1112  Data:[4 4 4 4 4 6 6 6 6 6 4 6 6 6 6 4 6 6 6 4]  Label:4\n",
            " ID: 1156  Data:[7 7 7 7 7 7 7 7 7 7 8 7 7 7 7 7 7 7 7 7]  Label:7\n",
            " ID: 1178  Data:[4 4 4 4 4 6 4 4 4 4 4 4 6 4 4 4 4 4 4 4]  Label:4\n",
            " ID: 1182  Data:[5 5 5 5 5 5 5 5 5 5 5 5 5 6 5 5 6 5 5 5]  Label:6\n",
            " ID: 1232  Data:[9 9 9 9 9 9 9 9 9 9 9 9 9 9 4 4 4 4 6 4]  Label:9\n",
            " ID: 1242  Data:[4 4 4 4 4 4 4 4 4 4 9 9 9 9 4 4 4 9 4 4]  Label:4\n",
            " ID: 1247  Data:[0 0 0 0 0 5 5 5 5 5 5 5 5 5 5 5 5 5 5 5]  Label:9\n",
            " ID: 1260  Data:[7 7 7 7 7 1 1 1 1 1 1 1 1 1 1 1 1 7 1 1]  Label:7\n",
            " ID: 1290  Data:[3 3 3 3 3 3 3 3 3 3 3 3 5 3 3 3 3 3 3 3]  Label:3\n",
            " ID: 1299  Data:[7 7 7 7 7 7 7 7 7 7 5 7 7 5 7 7 7 7 5 7]  Label:5\n",
            " ID: 1319  Data:[0 0 0 0 0 8 8 8 8 8 3 8 8 0 0 8 0 8 8 0]  Label:8\n",
            " ID: 1326  Data:[7 7 7 7 7 7 2 2 7 2 7 7 7 7 7 7 7 7 7 7]  Label:7\n",
            " ID: 1328  Data:[7 7 7 7 7 7 7 7 7 7 8 7 7 7 7 7 7 7 7 7]  Label:7\n",
            " ID: 1364  Data:[2 2 2 2 2 2 2 2 2 2 8 8 8 8 8 2 8 2 8 8]  Label:8\n",
            " ID: 1393  Data:[3 3 3 3 3 3 3 3 3 3 3 5 5 3 3 3 3 3 5 5]  Label:5\n",
            " ID: 1414  Data:[9 9 9 9 9 9 9 9 9 9 9 9 9 7 9 9 9 9 9 9]  Label:9\n",
            " ID: 1459  Data:[2 2 2 2 2 2 2 2 2 2 2 2 2 3 2 2 2 2 2 2]  Label:2\n",
            " ID: 1522  Data:[7 7 7 7 7 9 9 7 7 7 9 9 9 9 9 7 7 9 7 7]  Label:7\n",
            " ID: 1527  Data:[1 1 1 1 1 1 1 1 1 1 3 5 1 5 1 1 5 1 1 1]  Label:1\n",
            " ID: 1530  Data:[7 7 7 7 7 7 7 7 7 7 8 7 7 7 7 7 7 7 8 7]  Label:8\n",
            " ID: 1549  Data:[4 4 4 4 4 4 4 4 4 4 4 6 6 4 4 4 4 4 6 4]  Label:4\n",
            " ID: 1559  Data:[9 9 9 9 9 9 9 9 9 9 3 9 9 9 9 9 9 9 9 9]  Label:9\n",
            " ID: 1611  Data:[3 3 3 3 3 3 3 3 3 3 3 3 5 3 3 3 3 3 3 3]  Label:3\n",
            " ID: 1621  Data:[0 0 0 0 0 0 0 0 0 0 0 6 0 0 0 0 6 6 0 6]  Label:0\n",
            " ID: 1681  Data:[7 7 7 7 7 7 7 7 7 7 3 7 7 7 7 7 7 7 7 3]  Label:3\n",
            " ID: 1721  Data:[7 7 7 7 7 7 7 7 7 7 7 7 7 7 9 7 7 7 7 7]  Label:7\n",
            " ID: 1737  Data:[3 3 3 3 3 3 3 3 3 3 5 5 3 3 5 5 5 3 5 5]  Label:5\n",
            " ID: 1754  Data:[2 2 2 2 2 2 2 2 2 2 2 2 2 7 7 2 2 2 7 2]  Label:7\n",
            " ID: 1790  Data:[7 7 7 7 7 7 7 7 7 7 2 7 2 2 7 2 7 2 7 7]  Label:2\n",
            " ID: 1878  Data:[3 3 3 3 3 3 3 3 3 3 3 3 3 3 3 3 8 3 3 3]  Label:8\n",
            " ID: 1955  Data:[8 8 8 8 8 8 8 8 8 8 8 8 8 8 2 8 8 8 8 8]  Label:8\n",
            " ID: 1968  Data:[9 9 9 9 9 8 8 8 8 8 8 8 8 8 8 8 8 8 8 8]  Label:8\n",
            " ID: 1982  Data:[6 6 6 6 6 6 6 6 6 6 5 6 6 6 6 6 6 6 6 6]  Label:6\n",
            " ID: 2018  Data:[2 2 2 2 2 2 2 2 1 2 7 7 1 7 1 2 1 7 1 2]  Label:1\n",
            " ID: 2025  Data:[3 3 3 3 3 3 3 3 3 3 3 3 3 3 3 3 8 3 3 3]  Label:3\n",
            " ID: 2035  Data:[5 5 5 5 5 3 3 3 3 3 3 3 3 3 3 3 5 3 3 3]  Label:5\n",
            " ID: 2043  Data:[4 4 4 4 4 4 4 4 4 4 4 4 8 4 8 4 4 4 8 4]  Label:4\n",
            " ID: 2053  Data:[9 9 9 9 9 9 4 9 9 4 4 9 4 9 4 4 4 4 4 4]  Label:4\n",
            " ID: 2070  Data:[7 7 7 7 7 9 9 9 9 9 9 7 7 9 7 9 7 7 7 9]  Label:7\n",
            " ID: 2098  Data:[0 0 0 0 0 2 2 2 2 2 2 2 0 2 2 2 0 2 2 2]  Label:2\n",
            " ID: 2109  Data:[7 7 7 7 7 3 3 3 3 3 3 3 3 3 7 3 3 3 3 3]  Label:3\n",
            " ID: 2118  Data:[0 0 0 0 0 0 0 0 0 0 6 6 0 0 0 6 6 0 6 0]  Label:6\n",
            " ID: 2129  Data:[9 9 9 9 9 9 2 9 2 9 9 9 9 9 9 9 9 9 9 8]  Label:9\n",
            " ID: 2130  Data:[9 9 9 9 9 9 9 9 9 9 9 9 9 9 4 9 9 9 9 9]  Label:4\n",
            " ID: 2135  Data:[1 1 1 1 1 1 1 1 1 1 1 1 1 1 1 1 1 1 1 6]  Label:6\n",
            " ID: 2148  Data:[4 4 4 4 4 4 4 4 4 4 4 4 4 9 4 4 4 4 4 4]  Label:4\n",
            " ID: 2182  Data:[1 1 1 1 1 1 1 1 1 3 1 3 1 3 3 3 1 1 1 1]  Label:1\n",
            " ID: 2185  Data:[0 0 0 0 0 0 0 0 0 0 8 8 0 0 0 0 0 8 0 0]  Label:0\n",
            " ID: 2189  Data:[1 1 1 1 1 9 9 9 9 9 9 9 9 9 9 9 8 9 9 9]  Label:9\n",
            " ID: 2195  Data:[7 7 7 7 7 7 7 7 7 7 7 7 7 7 7 2 7 7 7 7]  Label:7\n",
            " ID: 2266  Data:[1 1 1 1 1 1 1 1 1 1 1 1 1 3 1 1 1 1 1 1]  Label:1\n",
            " ID: 2280  Data:[3 3 3 3 3 3 3 3 3 3 3 5 5 5 5 3 5 5 5 5]  Label:3\n",
            " ID: 2293  Data:[0 0 0 0 0 0 0 9 9 9 0 0 9 9 4 9 0 0 9 9]  Label:9\n",
            " ID: 2380  Data:[9 9 9 9 9 9 0 9 9 9 9 9 9 9 9 9 9 9 9 9]  Label:9\n",
            " ID: 2387  Data:[1 1 1 1 1 1 1 1 1 1 9 1 1 1 1 1 1 1 1 1]  Label:9\n",
            " ID: 2414  Data:[9 9 9 9 9 9 9 9 9 9 9 4 4 9 4 4 4 4 9 4]  Label:9\n",
            " ID: 2447  Data:[4 4 4 4 4 4 4 4 4 4 9 9 4 4 4 4 4 4 4 4]  Label:4\n",
            " ID: 2454  Data:[5 5 5 5 5 5 5 6 5 5 5 5 5 6 5 5 6 5 5 5]  Label:6\n",
            " ID: 2462  Data:[0 0 0 0 0 2 2 2 2 2 0 0 0 0 2 0 0 0 2 0]  Label:2\n",
            " ID: 2488  Data:[2 2 2 2 2 2 2 2 2 2 2 2 4 4 4 2 2 4 2 2]  Label:2\n",
            " ID: 2514  Data:[4 4 4 4 4 4 4 4 4 4 9 4 4 4 4 4 4 4 4 4]  Label:4\n",
            " ID: 2607  Data:[7 7 7 7 7 7 7 7 7 7 7 7 7 7 7 2 7 7 7 7]  Label:7\n",
            " ID: 2720  Data:[9 9 9 9 9 9 9 9 9 9 9 9 9 9 9 9 4 9 9 9]  Label:9\n",
            " ID: 2742  Data:[9 9 9 9 9 3 9 9 9 9 9 9 9 9 9 9 9 9 9 9]  Label:9\n",
            " ID: 2770  Data:[3 3 3 3 3 3 3 3 3 3 3 3 3 3 3 3 3 3 3 7]  Label:3\n",
            " ID: 2771  Data:[4 4 4 4 4 9 4 4 9 4 9 4 4 4 4 4 4 4 4 4]  Label:4\n",
            " ID: 2780  Data:[2 2 2 2 2 2 2 2 2 2 3 2 2 3 2 2 2 2 2 2]  Label:2\n",
            " ID: 2921  Data:[2 2 2 2 2 2 2 2 2 2 3 2 2 2 2 2 2 3 3 3]  Label:3\n",
            " ID: 2927  Data:[2 2 2 2 2 2 2 2 2 2 3 2 2 3 2 2 7 3 2 2]  Label:3\n",
            " ID: 2939  Data:[5 5 5 5 5 5 5 9 5 9 5 5 5 9 9 5 5 9 5 5]  Label:9\n",
            " ID: 2953  Data:[3 3 3 3 3 3 3 3 3 3 5 3 3 3 5 3 5 5 5 5]  Label:3\n",
            " ID: 2959  Data:[2 2 2 2 2 2 2 2 2 2 2 2 2 3 2 2 2 2 2 2]  Label:2\n",
            " ID: 2961  Data:[7 7 7 7 7 7 7 7 7 7 3 7 7 7 7 7 7 7 7 7]  Label:7\n",
            " ID: 2995  Data:[8 8 8 8 8 8 6 6 6 5 5 5 6 6 5 5 6 8 6 5]  Label:6\n",
            " ID: 3005  Data:[9 9 9 9 9 9 9 9 9 9 9 9 8 9 9 9 8 9 9 9]  Label:9\n",
            " ID: 3012  Data:[9 9 9 9 9 8 8 8 8 8 8 8 8 8 8 8 8 8 8 8]  Label:8\n",
            " ID: 3030  Data:[6 6 6 6 6 0 0 0 0 0 0 6 6 6 6 6 6 6 6 6]  Label:6\n",
            " ID: 3060  Data:[7 7 7 7 7 7 7 7 7 7 7 7 9 7 9 7 7 7 7 9]  Label:9\n",
            " ID: 3073  Data:[2 2 2 2 2 1 2 2 1 2 2 1 1 3 2 1 2 1 1 1]  Label:1\n",
            " ID: 3114  Data:[4 4 4 4 4 4 4 4 6 4 4 4 4 4 4 4 4 4 4 4]  Label:4\n",
            " ID: 3225  Data:[7 7 7 7 7 9 9 9 7 7 9 7 1 7 9 9 7 7 7 9]  Label:7\n",
            " ID: 3289  Data:[9 9 9 9 9 8 8 8 8 8 9 9 9 9 9 8 9 9 8 8]  Label:8\n",
            " ID: 3330  Data:[2 2 2 2 2 2 2 2 2 2 3 2 2 2 2 2 2 2 2 2]  Label:2\n",
            " ID: 3422  Data:[0 0 0 0 0 0 0 0 0 0 0 6 0 0 0 0 0 0 0 6]  Label:6\n",
            " ID: 3457  Data:[1 1 1 1 1 1 1 1 1 1 6 1 1 1 1 1 1 1 1 1]  Label:1\n",
            " ID: 3534  Data:[4 4 4 4 4 4 4 8 4 4 8 8 8 4 4 4 4 4 8 4]  Label:4\n",
            " ID: 3550  Data:[6 6 6 6 6 6 6 6 6 6 5 6 6 6 6 6 6 5 6 6]  Label:6\n",
            " ID: 3558  Data:[0 0 0 0 0 5 5 5 5 5 3 5 0 5 5 5 0 5 5 5]  Label:5\n",
            " ID: 3559  Data:[5 5 5 5 5 5 8 8 5 8 8 5 8 8 8 8 8 5 8 8]  Label:8\n",
            " ID: 3597  Data:[9 9 9 9 9 9 9 9 9 9 3 3 9 9 9 9 9 9 3 9]  Label:9\n",
            " ID: 3626  Data:[8 8 8 8 8 8 8 8 8 8 8 8 8 3 8 8 8 8 8 8]  Label:8\n",
            " ID: 3662  Data:[8 8 8 8 8 8 8 8 8 8 8 8 8 0 8 8 8 8 8 8]  Label:8\n",
            " ID: 3718  Data:[4 4 4 4 4 9 4 4 9 4 4 4 9 4 4 4 4 4 4 4]  Label:4\n",
            " ID: 3726  Data:[4 4 4 4 4 9 9 9 9 4 9 9 9 9 4 4 4 9 4 4]  Label:4\n",
            " ID: 3727  Data:[8 8 8 8 8 8 8 8 8 8 3 9 8 9 8 8 9 9 8 8]  Label:8\n",
            " ID: 3730  Data:[7 7 7 7 7 7 7 7 7 7 9 7 7 7 7 7 7 7 7 7]  Label:7\n",
            " ID: 3762  Data:[8 8 8 8 8 6 8 8 8 6 6 6 6 6 8 6 6 6 8 6]  Label:6\n",
            " ID: 3778  Data:[2 2 2 2 2 2 2 5 5 2 5 5 5 5 2 5 2 5 5 2]  Label:5\n",
            " ID: 3780  Data:[4 4 4 4 4 4 4 4 4 4 6 6 6 4 4 4 4 4 4 4]  Label:4\n",
            " ID: 3806  Data:[5 5 5 5 5 5 5 5 5 5 5 5 5 8 5 5 5 5 8 5]  Label:5\n",
            " ID: 3808  Data:[8 8 8 8 8 8 8 8 8 8 8 8 8 8 8 8 8 3 7 8]  Label:7\n",
            " ID: 3850  Data:[9 9 9 9 9 9 9 9 9 9 9 9 9 9 4 9 9 9 4 9]  Label:9\n",
            " ID: 3853  Data:[0 0 0 0 0 0 0 0 0 0 6 6 6 0 6 6 6 6 6 6]  Label:6\n",
            " ID: 3869  Data:[9 9 9 9 9 9 9 9 9 9 9 9 9 9 4 9 4 9 9 9]  Label:9\n",
            " ID: 3871  Data:[8 8 8 8 8 8 8 8 8 8 3 8 8 8 8 8 8 8 8 8]  Label:8\n",
            " ID: 3906  Data:[1 1 1 1 1 3 3 1 1 3 3 3 3 3 3 3 1 1 1 1]  Label:1\n",
            " ID: 3941  Data:[4 4 4 4 4 4 4 4 4 4 4 6 6 4 4 6 4 4 6 4]  Label:4\n",
            " ID: 4007  Data:[7 7 7 7 7 7 7 7 7 7 9 9 9 9 9 7 7 9 7 9]  Label:7\n",
            " ID: 4027  Data:[7 7 7 7 7 7 7 7 7 7 7 7 7 7 7 7 7 7 7 1]  Label:7\n",
            " ID: 4063  Data:[6 6 6 6 6 6 6 6 6 6 5 6 6 6 6 6 6 6 6 6]  Label:6\n",
            " ID: 4065  Data:[0 0 0 0 0 2 0 2 2 2 0 0 0 0 2 2 0 0 2 0]  Label:0\n",
            " ID: 4075  Data:[8 8 8 8 8 8 8 8 8 8 8 8 0 0 8 8 8 8 8 8]  Label:8\n",
            " ID: 4078  Data:[2 2 2 2 2 9 2 9 2 2 3 9 9 9 3 9 9 8 8 9]  Label:9\n",
            " ID: 4163  Data:[7 7 7 7 7 7 9 9 9 9 9 9 7 9 9 9 7 9 7 9]  Label:9\n",
            " ID: 4205  Data:[2 2 2 2 2 1 2 2 2 7 1 1 1 1 2 2 0 1 1 2]  Label:2\n",
            " ID: 4207  Data:[8 8 8 8 8 8 8 8 8 8 8 8 8 8 8 2 8 8 8 8]  Label:8\n",
            " ID: 4224  Data:[7 7 7 7 7 7 7 7 7 7 9 7 7 7 7 9 7 9 7 9]  Label:9\n",
            " ID: 4238  Data:[7 7 7 7 7 7 3 7 7 3 3 7 3 3 7 3 7 7 3 3]  Label:7\n",
            " ID: 4248  Data:[2 2 2 2 2 1 1 1 1 1 1 1 1 2 1 2 1 2 2 2]  Label:2\n",
            " ID: 4256  Data:[2 2 2 2 2 2 2 2 2 2 3 2 3 3 2 2 2 3 2 2]  Label:3\n",
            " ID: 4265  Data:[4 4 4 4 4 4 4 4 4 4 4 7 7 7 4 4 4 4 4 4]  Label:4\n",
            " ID: 4284  Data:[9 9 9 9 9 9 9 9 9 9 5 9 5 9 9 9 5 9 5 5]  Label:9\n",
            " ID: 4294  Data:[7 7 7 7 7 9 9 9 9 9 9 9 9 9 9 9 9 9 9 9]  Label:9\n",
            " ID: 4306  Data:[3 3 3 3 3 3 3 3 3 3 3 3 7 3 7 3 3 3 3 3]  Label:3\n",
            " ID: 4360  Data:[3 3 3 3 3 5 5 5 5 5 5 3 5 5 5 5 5 5 5 5]  Label:5\n",
            " ID: 4497  Data:[7 7 7 7 7 7 7 7 7 7 7 7 7 7 7 7 8 7 7 7]  Label:8\n",
            " ID: 4500  Data:[1 1 1 1 1 1 1 1 1 1 9 1 1 1 1 1 1 1 1 1]  Label:9\n",
            " ID: 4507  Data:[1 1 1 1 1 2 2 2 2 2 2 1 1 2 1 2 1 2 1 1]  Label:1\n",
            " ID: 4536  Data:[5 5 5 5 5 5 5 5 5 5 5 5 5 6 5 5 6 5 5 5]  Label:6\n",
            " ID: 4571  Data:[0 0 0 0 0 8 8 8 8 8 6 6 6 6 6 6 6 6 8 8]  Label:6\n",
            " ID: 4575  Data:[4 4 4 4 4 4 4 4 4 4 2 4 4 4 4 4 4 4 4 4]  Label:4\n",
            " ID: 4601  Data:[8 8 8 8 8 8 8 8 8 8 8 8 8 4 4 8 8 8 8 8]  Label:8\n",
            " ID: 4615  Data:[2 2 2 2 2 2 2 2 2 2 2 2 2 2 2 2 4 2 2 2]  Label:2\n",
            " ID: 4639  Data:[9 9 9 9 9 9 9 9 9 9 8 9 8 9 9 8 9 9 8 8]  Label:8\n",
            " ID: 4699  Data:[6 6 6 6 6 6 6 6 6 6 6 1 6 6 6 6 6 6 6 6]  Label:6\n",
            " ID: 4731  Data:[3 3 3 3 3 3 3 3 3 3 8 8 8 8 7 7 7 8 8 7]  Label:8\n",
            " ID: 4751  Data:[4 4 4 4 4 4 4 4 4 4 6 6 4 4 4 4 4 6 4 4]  Label:4\n",
            " ID: 4761  Data:[9 9 9 9 9 9 9 9 9 9 9 8 8 8 9 8 8 8 8 8]  Label:9\n",
            " ID: 4783  Data:[9 9 9 9 9 9 9 9 9 9 4 4 4 4 4 4 4 4 4 4]  Label:4\n",
            " ID: 4807  Data:[0 0 0 0 0 8 8 8 8 8 8 8 0 0 8 8 8 0 0 0]  Label:8\n",
            " ID: 4814  Data:[0 0 0 0 0 6 6 6 6 6 6 6 6 6 6 6 6 6 6 6]  Label:6\n",
            " ID: 4823  Data:[9 9 9 9 9 9 9 9 9 9 9 9 9 9 4 4 4 9 4 9]  Label:9\n",
            " ID: 4860  Data:[9 9 9 9 9 9 4 9 9 9 9 9 9 9 4 9 4 9 4 4]  Label:4\n",
            " ID: 4874  Data:[0 0 0 0 0 9 9 9 9 9 0 9 9 9 9 9 9 9 9 9]  Label:9\n",
            " ID: 4879  Data:[8 8 8 8 8 8 6 8 8 8 8 8 8 8 8 8 8 8 8 8]  Label:8\n",
            " ID: 4911  Data:[4 4 4 4 4 4 4 4 4 4 9 4 4 4 4 4 4 4 4 4]  Label:4\n",
            " ID: 4956  Data:[4 4 4 4 4 4 4 4 4 4 8 8 8 8 4 4 4 4 8 8]  Label:8\n",
            " ID: 5127  Data:[2 2 2 2 2 2 2 2 2 2 2 2 2 2 2 2 2 2 7 2]  Label:2\n",
            " ID: 5331  Data:[1 1 1 1 1 1 1 1 1 1 6 1 1 1 1 6 1 1 6 1]  Label:1\n",
            " ID: 5600  Data:[7 7 7 7 7 9 7 7 7 7 9 7 7 7 7 7 7 7 7 9]  Label:7\n",
            " ID: 5634  Data:[2 2 2 2 2 3 3 3 3 3 3 2 2 2 2 2 2 2 2 2]  Label:2\n",
            " ID: 5642  Data:[1 1 1 1 1 1 1 1 1 1 5 6 1 1 1 1 1 1 1 1]  Label:1\n",
            " ID: 5676  Data:[4 4 4 4 4 7 4 4 4 4 4 4 4 4 4 4 4 4 4 4]  Label:4\n",
            " ID: 5734  Data:[7 7 7 7 7 3 3 3 3 3 3 3 3 3 7 3 3 3 3 3]  Label:3\n",
            " ID: 5937  Data:[3 3 3 3 3 3 3 3 3 3 3 3 3 3 3 3 3 5 3 3]  Label:5\n",
            " ID: 5973  Data:[8 8 8 8 8 3 8 8 3 3 3 3 8 3 3 3 8 3 3 8]  Label:3\n",
            " ID: 5981  Data:[5 5 5 5 5 5 5 5 5 5 5 9 5 9 5 5 5 5 5 5]  Label:5\n",
            " ID: 5982  Data:[3 3 3 3 3 5 5 5 5 5 5 5 5 5 5 5 5 5 5 5]  Label:5\n",
            " ID: 5997  Data:[9 9 9 9 9 5 9 9 5 9 5 9 5 9 9 5 9 5 5 5]  Label:5\n",
            " ID: 6091  Data:[9 9 9 9 9 9 9 9 9 9 9 5 5 9 5 9 9 5 9 5]  Label:9\n",
            " ID: 6172  Data:[9 9 9 9 9 9 9 9 5 9 5 9 9 9 5 9 9 5 9 9]  Label:9\n",
            " ID: 6505  Data:[0 0 0 0 0 0 0 0 0 0 0 0 0 0 0 0 9 9 9 0]  Label:9\n",
            " ID: 6555  Data:[8 8 8 8 8 8 8 8 8 8 8 8 8 8 8 8 9 8 8 8]  Label:8\n",
            " ID: 6560  Data:[9 9 9 9 9 5 5 9 5 5 5 5 9 9 9 9 9 9 9 5]  Label:9\n",
            " ID: 6561  Data:[7 7 7 7 7 7 7 7 7 7 9 7 7 7 7 7 7 7 7 7]  Label:7\n",
            " ID: 6571  Data:[9 9 9 9 9 9 9 9 9 9 9 9 7 9 7 7 9 9 9 9]  Label:9\n",
            " ID: 6572  Data:[1 1 1 1 1 1 1 1 1 1 5 1 1 1 1 1 1 1 1 1]  Label:1\n",
            " ID: 6576  Data:[1 1 1 1 1 1 1 1 1 1 7 7 1 7 1 7 1 7 7 1]  Label:7\n",
            " ID: 6578  Data:[8 8 8 8 8 8 8 8 8 8 8 5 8 8 5 5 8 5 8 8]  Label:8\n",
            " ID: 6603  Data:[7 7 7 7 7 8 8 8 8 8 8 8 8 8 8 8 8 8 8 8]  Label:8\n",
            " ID: 6625  Data:[2 2 2 2 2 2 2 2 2 2 2 7 2 2 2 2 2 2 2 2]  Label:8\n",
            " ID: 6651  Data:[8 8 8 8 8 8 8 8 8 8 8 5 8 8 8 8 8 8 8 8]  Label:0\n",
            " ID: 6662  Data:[2 2 2 2 2 7 7 7 7 7 7 7 7 7 7 7 7 7 7 7]  Label:7\n",
            " ID: 6783  Data:[6 6 6 6 6 1 6 6 6 6 6 6 1 6 6 6 6 1 6 6]  Label:1\n",
            " ID: 7121  Data:[9 9 9 9 9 8 9 8 9 9 8 9 8 8 9 8 8 8 8 8]  Label:8\n",
            " ID: 7216  Data:[0 0 0 0 0 6 0 6 0 6 0 6 0 0 0 0 6 0 0 0]  Label:0\n",
            " ID: 7434  Data:[4 4 4 4 4 4 4 4 4 4 4 4 8 9 4 4 4 4 4 8]  Label:4\n",
            " ID: 7902  Data:[7 7 7 7 7 7 7 7 7 7 9 7 7 7 7 7 7 7 7 7]  Label:7\n",
            " ID: 7915  Data:[7 7 7 7 7 7 7 7 7 7 9 7 7 7 7 7 7 7 7 7]  Label:7\n",
            " ID: 7928  Data:[1 1 1 1 1 1 1 1 1 1 1 1 1 0 1 1 1 1 1 1]  Label:1\n",
            " ID: 8059  Data:[2 2 2 2 2 2 2 2 2 2 1 1 1 2 2 2 1 2 1 2]  Label:2\n",
            " ID: 8094  Data:[8 8 8 8 8 8 8 8 8 8 8 8 1 8 2 2 2 2 8 2]  Label:2\n",
            " ID: 8246  Data:[3 3 3 3 3 3 3 3 3 3 3 3 3 3 3 3 5 3 3 3]  Label:3\n",
            " ID: 8273  Data:[9 9 9 9 9 0 0 0 0 0 0 0 0 0 0 0 0 0 0 0]  Label:0\n",
            " ID: 8278  Data:[4 4 4 4 4 0 0 0 0 0 0 0 0 0 0 0 0 0 0 0]  Label:0\n",
            " ID: 8316  Data:[2 2 2 2 2 2 2 7 2 7 7 7 7 7 7 2 7 7 7 7]  Label:7\n",
            " ID: 8325  Data:[0 0 0 0 0 0 0 0 0 0 0 6 0 0 0 0 6 6 0 0]  Label:0\n",
            " ID: 8326  Data:[2 2 2 2 2 6 6 6 6 6 6 2 6 6 6 6 6 6 6 6]  Label:6\n",
            " ID: 8382  Data:[2 2 2 2 2 0 0 0 0 2 0 0 0 0 0 2 0 0 2 0]  Label:0\n",
            " ID: 8408  Data:[8 8 8 8 8 5 5 5 5 5 5 5 8 5 5 5 5 5 8 5]  Label:8\n",
            " ID: 8520  Data:[4 4 4 4 4 4 4 4 4 4 9 4 4 4 4 4 4 4 4 4]  Label:4\n",
            " ID: 8527  Data:[4 4 4 4 4 4 4 4 4 4 9 9 9 9 4 4 4 9 9 4]  Label:4\n",
            " ID: 9015  Data:[2 2 2 2 2 2 2 2 2 2 2 2 2 2 2 2 7 2 7 2]  Label:7\n",
            " ID: 9019  Data:[7 7 7 7 7 7 2 7 2 2 7 7 7 7 7 7 7 7 7 7]  Label:7\n",
            " ID: 9024  Data:[2 2 2 2 2 2 2 2 2 2 2 7 7 7 7 2 7 2 7 7]  Label:7\n",
            " ID: 9036  Data:[7 7 7 7 7 2 2 2 2 2 7 7 7 2 7 7 7 7 7 7]  Label:7\n",
            " ID: 9280  Data:[8 8 8 8 8 8 8 8 8 8 5 8 8 8 8 8 8 5 8 8]  Label:8\n",
            " ID: 9530  Data:[9 9 9 9 9 9 9 9 9 9 9 9 9 8 8 9 8 9 9 9]  Label:9\n",
            " ID: 9540  Data:[1 1 1 1 1 1 1 8 1 8 8 1 1 1 1 1 1 1 1 1]  Label:1\n",
            " ID: 9587  Data:[9 9 9 9 9 9 9 9 9 9 9 9 9 9 9 4 9 9 9 9]  Label:9\n",
            " ID: 9613  Data:[2 2 2 2 2 2 2 2 2 2 2 2 2 3 2 2 2 2 2 2]  Label:2\n",
            " ID: 9634  Data:[0 0 0 0 0 0 2 0 0 1 1 0 0 0 2 0 0 0 2 0]  Label:0\n",
            " ID: 9638  Data:[9 9 9 9 9 9 9 9 9 9 9 9 9 9 9 9 9 9 7 9]  Label:9\n",
            " ID: 9642  Data:[7 7 7 7 7 7 7 7 7 7 9 9 9 9 7 7 7 9 7 9]  Label:9\n",
            " ID: 9669  Data:[4 4 4 4 4 4 4 4 4 4 4 4 7 4 4 4 4 4 4 4]  Label:4\n",
            " ID: 9679  Data:[6 6 6 6 6 6 6 6 6 6 6 2 6 6 1 6 6 2 6 6]  Label:6\n",
            " ID: 9692  Data:[7 7 7 7 7 7 7 7 7 7 7 7 7 7 9 7 7 7 7 7]  Label:9\n",
            " ID: 9792  Data:[4 4 4 4 4 9 9 9 9 4 9 9 9 4 4 4 4 4 4 9]  Label:4\n",
            " ID: 9811  Data:[2 2 2 2 2 2 2 2 2 2 8 2 2 2 2 2 2 2 2 2]  Label:2\n",
            " ID: 9839  Data:[2 2 2 2 2 2 2 2 2 2 2 7 7 2 2 7 2 7 2 7]  Label:2\n",
            " ID: 9856  Data:[9 9 9 9 9 9 9 9 9 9 5 9 9 9 9 9 9 9 9 9]  Label:9\n",
            " ID: 9888  Data:[6 6 6 6 6 6 6 6 6 6 6 6 6 0 6 6 6 6 6 6]  Label:6\n",
            " ID: 9892  Data:[8 8 8 8 8 8 8 8 8 8 8 5 8 8 8 8 8 8 8 5]  Label:8\n",
            " ID: 9905  Data:[3 3 3 3 3 3 3 7 3 3 3 3 7 3 7 3 3 3 7 3]  Label:3\n",
            " ID: 9922  Data:[4 4 4 4 4 4 4 9 9 4 9 4 4 4 4 4 4 4 4 4]  Label:4\n"
          ],
          "name": "stdout"
        }
      ]
    },
    {
      "cell_type": "code",
      "metadata": {
        "id": "afXzxdZyF5ae",
        "colab_type": "code",
        "colab": {}
      },
      "source": [
        "def show_image_id(id):\n",
        "  plt.figure()\n",
        "  plt.imshow(X_test[id].reshape((28,28)))\n",
        "  plt.gray()\n",
        "  plt.show()"
      ],
      "execution_count": 0,
      "outputs": []
    },
    {
      "cell_type": "code",
      "metadata": {
        "id": "ZGsA6d7PF8Rz",
        "colab_type": "code",
        "colab": {
          "base_uri": "https://localhost:8080/",
          "height": 265
        },
        "outputId": "645f6c2b-a1ad-4c69-83a0-6421e178c035"
      },
      "source": [
        "show_image_id(9922)"
      ],
      "execution_count": 117,
      "outputs": [
        {
          "output_type": "display_data",
          "data": {
            "image/png": "[encoded data removed]",
            "text/plain": [
              "<Figure size 432x288 with 1 Axes>"
            ]
          },
          "metadata": {
            "tags": [],
            "needs_background": "light"
          }
        }
      ]
    },
    {
      "cell_type": "code",
      "metadata": {
        "id": "MN_cVMwoHYfi",
        "colab_type": "code",
        "colab": {}
      },
      "source": [
        ""
      ],
      "execution_count": 0,
      "outputs": []
    }
  ]
}