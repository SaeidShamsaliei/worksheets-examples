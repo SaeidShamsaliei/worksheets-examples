{
  "nbformat": 4,
  "nbformat_minor": 0,
  "metadata": {
    "colab": {
      "name": "Evaluation_2.ipynb",
      "provenance": [],
      "authorship_tag": "ABX9TyN498jIVZv6Bc7ePckRkPHW",
      "include_colab_link": true
    },
    "kernelspec": {
      "name": "python3",
      "display_name": "Python 3"
    }
  },
  "cells": [
    {
      "cell_type": "markdown",
      "metadata": {
        "id": "view-in-github",
        "colab_type": "text"
      },
      "source": [
        "<a href=\"https://colab.research.google.com/github/SaeidShamsaliei/worksheets-examples/blob/master/Evaluation_2.ipynb\" target=\"_parent\"><img src=\"https://colab.research.google.com/assets/colab-badge.svg\" alt=\"Open In Colab\"/></a>"
      ]
    },
    {
      "cell_type": "code",
      "metadata": {
        "id": "UNeXV5IDIEVT",
        "colab_type": "code",
        "outputId": "6c6a27ce-0358-4424-d421-a9d428b3eeeb",
        "colab": {
          "base_uri": "https://localhost:8080/",
          "height": 120
        }
      },
      "source": [
        "from google.colab import drive\n",
        "drive.mount('/content/drive')"
      ],
      "execution_count": 0,
      "outputs": [
        {
          "output_type": "stream",
          "text": [
            "Go to this URL in a browser: https://accounts.google.com/o/oauth2/auth?client_id=947318989803-6bn6qk8qdgf4n4g3pfee6491hc0brc4i.apps.googleusercontent.com&redirect_uri=urn%3aietf%3awg%3aoauth%3a2.0%3aoob&response_type=code&scope=email%20https%3a%2f%2fwww.googleapis.com%2fauth%2fdocs.test%20https%3a%2f%2fwww.googleapis.com%2fauth%2fdrive%20https%3a%2f%2fwww.googleapis.com%2fauth%2fdrive.photos.readonly%20https%3a%2f%2fwww.googleapis.com%2fauth%2fpeopleapi.readonly\n",
            "\n",
            "Enter your authorization code:\n",
            "··········\n",
            "Mounted at /content/drive\n"
          ],
          "name": "stdout"
        }
      ]
    },
    {
      "cell_type": "code",
      "metadata": {
        "id": "xSeByrSdIL6d",
        "colab_type": "code",
        "colab": {}
      },
      "source": [
        "import numpy as np\n",
        "import os\n",
        "import matplotlib.pyplot as plt"
      ],
      "execution_count": 0,
      "outputs": []
    },
    {
      "cell_type": "code",
      "metadata": {
        "id": "1G_hmMgrIejS",
        "colab_type": "code",
        "colab": {}
      },
      "source": [
        "# the directory in which results are stored\n",
        "main_folder = \"/content/drive/My Drive/AI reproducibility/Machine Learning Platform/results\""
      ],
      "execution_count": 0,
      "outputs": []
    },
    {
      "cell_type": "code",
      "metadata": {
        "id": "KoVr72R2Igyd",
        "colab_type": "code",
        "outputId": "f6dca2ef-94e8-43fd-a15b-e209d22ef919",
        "colab": {
          "base_uri": "https://localhost:8080/",
          "height": 33
        }
      },
      "source": [
        "#getting the test labels\n",
        "file_name_test = main_folder + \"/\" + \"mnist_test.csv\"\n",
        "test_data = np.loadtxt(file_name_test, dtype=\"int\", delimiter=\",\", skiprows=1)\n",
        "test_labels = test_data[:,0]\n",
        "print(test_labels)"
      ],
      "execution_count": 0,
      "outputs": [
        {
          "output_type": "stream",
          "text": [
            "[7 2 1 ... 4 5 6]\n"
          ],
          "name": "stdout"
        }
      ]
    },
    {
      "cell_type": "code",
      "metadata": {
        "id": "wUpVVmUZIi7A",
        "colab_type": "code",
        "colab": {}
      },
      "source": [
        "platform_folder_comet = \"comet.ml\"\n",
        "platform_folder_coda = \"codalab\"\n",
        "platform_folder_floyd = \"floydhub\"\n",
        "platform_folder_kaggle = \"kaggle\""
      ],
      "execution_count": 0,
      "outputs": []
    },
    {
      "cell_type": "code",
      "metadata": {
        "id": "ms2MGorcfBzL",
        "colab_type": "code",
        "colab": {}
      },
      "source": [
        "experiment_folder1 = \"CPU\"\n",
        "experiment_folder2 = \"GPU\"\n",
        "seed_folder1 = \"seed\"\n",
        "seed_folder2 = \"no seed\""
      ],
      "execution_count": 0,
      "outputs": []
    },
    {
      "cell_type": "code",
      "metadata": {
        "id": "KEvxsQOufEk_",
        "colab_type": "code",
        "colab": {}
      },
      "source": [
        "folder_dir1_kaggle = main_folder+ \"/\" + platform_folder_kaggle + \"/\" + seed_folder1 + \"/\" + experiment_folder1\n",
        "folder_dir2_kaggle = main_folder+ \"/\" + platform_folder_kaggle + \"/\" + seed_folder1 + \"/\" + experiment_folder2\n",
        "folder_dir3_kaggle = main_folder+ \"/\" + platform_folder_kaggle + \"/\" + seed_folder2 + \"/\" + experiment_folder1\n",
        "folder_dir4_kaggle = main_folder+ \"/\" + platform_folder_kaggle + \"/\" + seed_folder2 + \"/\" + experiment_folder2\n",
        "\n",
        "folder_dir1_floyd = main_folder+ \"/\" + platform_folder_floyd + \"/\" + seed_folder1 + \"/\" + experiment_folder1\n",
        "folder_dir2_floyd = main_folder+ \"/\" + platform_folder_floyd + \"/\" + seed_folder1 + \"/\" + experiment_folder2\n",
        "folder_dir3_floyd = main_folder+ \"/\" + platform_folder_floyd + \"/\" + seed_folder2 + \"/\" + experiment_folder1\n",
        "folder_dir4_floyd = main_folder+ \"/\" + platform_folder_floyd + \"/\" + seed_folder2 + \"/\" + experiment_folder2\n",
        "\n",
        "folder_dir1_coda = main_folder+ \"/\" + platform_folder_coda + \"/\" + seed_folder1 + \"/\" + experiment_folder1\n",
        "folder_dir2_coda = main_folder+ \"/\" + platform_folder_coda + \"/\" + seed_folder1 + \"/\" + experiment_folder2\n",
        "folder_dir3_coda = main_folder+ \"/\" + platform_folder_coda + \"/\" + seed_folder2 + \"/\" + experiment_folder1\n",
        "folder_dir4_coda = main_folder+ \"/\" + platform_folder_coda + \"/\" + seed_folder2 + \"/\" + experiment_folder2\n",
        "\n",
        "# cometml on cpu and gpu like the rest of the experiments\n",
        "folder_dir1_comet_norm = main_folder+ \"/\" + platform_folder_comet + \"/\" + seed_folder1 + \"/\" + experiment_folder1\n",
        "folder_dir2_comet_norm = main_folder+ \"/\" + platform_folder_comet + \"/\" + seed_folder1 + \"/\" + experiment_folder2\n",
        "folder_dir3_comet_norm = main_folder+ \"/\" + platform_folder_comet + \"/\" + seed_folder2 + \"/\" + experiment_folder1\n",
        "folder_dir4_comet_norm = main_folder+ \"/\" + platform_folder_comet + \"/\" + seed_folder2 + \"/\" + experiment_folder2"
      ],
      "execution_count": 0,
      "outputs": []
    },
    {
      "cell_type": "code",
      "metadata": {
        "id": "oBn9EXrdfOT2",
        "colab_type": "code",
        "colab": {}
      },
      "source": [
        "# creating a list of csv files\n",
        "def make_list(folder_dir1):\n",
        "    folder_contents1 = os.listdir(folder_dir1)\n",
        "    image_list1 = []\n",
        "    for el in folder_contents1:\n",
        "        if el.endswith(\".csv\"):\n",
        "            file_name = str(folder_dir1) + \"/\" + str(el)\n",
        "            image = np.loadtxt(file_name, dtype=\"int\", delimiter=\",\", skiprows=1)\n",
        "            image_list1.append(image)\n",
        "    return(image_list1)"
      ],
      "execution_count": 0,
      "outputs": []
    },
    {
      "cell_type": "code",
      "metadata": {
        "id": "qnpIGcfkqdiy",
        "colab_type": "code",
        "colab": {}
      },
      "source": [
        "image_list1_kaggle = make_list(folder_dir1_kaggle)\n",
        "image_list2_kaggle = make_list(folder_dir2_kaggle)\n",
        "image_list3_kaggle = make_list(folder_dir3_kaggle)\n",
        "image_list4_kaggle = make_list(folder_dir4_kaggle)\n",
        "\n",
        "\n",
        "image_list1_comet = make_list(folder_dir1_comet_norm)\n",
        "image_list2_comet = make_list(folder_dir2_comet_norm)\n",
        "image_list3_comet = make_list(folder_dir3_comet_norm)\n",
        "image_list4_comet = make_list(folder_dir4_comet_norm)\n",
        "\n",
        "image_list1_floyd = make_list(folder_dir1_floyd)\n",
        "image_list2_floyd = make_list(folder_dir2_floyd)\n",
        "image_list3_floyd = make_list(folder_dir3_floyd)\n",
        "image_list4_floyd = make_list(folder_dir4_floyd)\n",
        "\n",
        "image_list1_coda = make_list(folder_dir1_coda)\n",
        "image_list2_coda = make_list(folder_dir2_coda)\n",
        "image_list3_coda = make_list(folder_dir3_coda)\n",
        "image_list4_coda = make_list(folder_dir4_coda)"
      ],
      "execution_count": 0,
      "outputs": []
    },
    {
      "cell_type": "code",
      "metadata": {
        "id": "6o02CDAoqj4V",
        "colab_type": "code",
        "colab": {}
      },
      "source": [
        "def add_list(l2, l1):\n",
        "  for i in l1:\n",
        "    l2.append(i)"
      ],
      "execution_count": 0,
      "outputs": []
    },
    {
      "cell_type": "code",
      "metadata": {
        "id": "gvLaicIxsLXT",
        "colab_type": "code",
        "colab": {}
      },
      "source": [
        "# make a list of kaggels\n",
        "kaggle_temp = image_list1_kaggle + image_list2_kaggle + image_list3_kaggle + image_list4_kaggle\n",
        "\n",
        "# convert it to numpy array\n",
        "kaggle_temp = np.array(kaggle)\n",
        "\n",
        "# make a new list []\n",
        "kaggle_arr = np.zeros((20,10000))\n",
        "kaggle_label = np.zeros((1,10000)) # 1.all agree  2. all disagree  3. between\n",
        "\n",
        "# the first 20 dim is the value\n",
        "kaggle_arr = kaggle_temp[:,:,1]"
      ],
      "execution_count": 0,
      "outputs": []
    },
    {
      "cell_type": "code",
      "metadata": {
        "id": "MK65AzJpq_pO",
        "colab_type": "code",
        "outputId": "bce51acb-8b53-40dc-8d2e-8596659f2b02",
        "colab": {
          "base_uri": "https://localhost:8080/",
          "height": 67
        }
      },
      "source": [
        "len_arr = 10000\n",
        "len_res = 20\n",
        "\n",
        "# current row we are in\n",
        "print(kaggle_arr[:,99])\n",
        "# cuurent result\n",
        "print(test_labels[99])\n",
        "\n",
        "# number of unique samples\n",
        "print(np.unique(kaggle_arr[:,1]).shape[0])\n",
        "\n",
        " b = np.sort(,axis=1)"
      ],
      "execution_count": 0,
      "outputs": [
        {
          "output_type": "stream",
          "text": [
            "[9 9 9 9 9 9 9 9 9 9 9 9 9 9 9 9 9 9 9 9]\n",
            "9\n",
            "1\n"
          ],
          "name": "stdout"
        }
      ]
    },
    {
      "cell_type": "code",
      "metadata": {
        "id": "S7v1n64ys39U",
        "colab_type": "code",
        "colab": {}
      },
      "source": [
        ""
      ],
      "execution_count": 0,
      "outputs": []
    }
  ]
}