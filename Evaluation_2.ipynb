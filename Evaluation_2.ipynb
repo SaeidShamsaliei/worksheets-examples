{
  "nbformat": 4,
  "nbformat_minor": 0,
  "metadata": {
    "colab": {
      "name": "Evaluation_2.ipynb",
      "provenance": [],
      "collapsed_sections": [],
      "toc_visible": true,
      "authorship_tag": "ABX9TyNgoGbGhKikyaDkjLZyX77y",
      "include_colab_link": true
    },
    "kernelspec": {
      "name": "python3",
      "display_name": "Python 3"
    }
  },
  "cells": [
    {
      "cell_type": "markdown",
      "metadata": {
        "id": "view-in-github",
        "colab_type": "text"
      },
      "source": [
        "<a href=\"https://colab.research.google.com/github/SaeidShamsaliei/worksheets-examples/blob/master/Evaluation_2.ipynb\" target=\"_parent\"><img src=\"https://colab.research.google.com/assets/colab-badge.svg\" alt=\"Open In Colab\"/></a>"
      ]
    },
    {
      "cell_type": "code",
      "metadata": {
        "id": "UNeXV5IDIEVT",
        "colab_type": "code",
        "outputId": "c937b582-14bd-43db-a921-b4749234176f",
        "colab": {
          "base_uri": "https://localhost:8080/",
          "height": 122
        }
      },
      "source": [
        "from google.colab import drive\n",
        "drive.mount('/content/drive')"
      ],
      "execution_count": 2,
      "outputs": [
        {
          "output_type": "stream",
          "text": [
            "Go to this URL in a browser: https://accounts.google.com/o/oauth2/auth?client_id=947318989803-6bn6qk8qdgf4n4g3pfee6491hc0brc4i.apps.googleusercontent.com&redirect_uri=urn%3aietf%3awg%3aoauth%3a2.0%3aoob&response_type=code&scope=email%20https%3a%2f%2fwww.googleapis.com%2fauth%2fdocs.test%20https%3a%2f%2fwww.googleapis.com%2fauth%2fdrive%20https%3a%2f%2fwww.googleapis.com%2fauth%2fdrive.photos.readonly%20https%3a%2f%2fwww.googleapis.com%2fauth%2fpeopleapi.readonly\n",
            "\n",
            "Enter your authorization code:\n",
            "··········\n",
            "Mounted at /content/drive\n"
          ],
          "name": "stdout"
        }
      ]
    },
    {
      "cell_type": "code",
      "metadata": {
        "id": "xSeByrSdIL6d",
        "colab_type": "code",
        "colab": {
          "base_uri": "https://localhost:8080/",
          "height": 34
        },
        "outputId": "c12f2f7b-91b5-4132-ccda-2bc5ccc31a6e"
      },
      "source": [
        "import numpy as np\n",
        "import os\n",
        "import matplotlib.pyplot as plt\n",
        "import sys\n",
        "import keras\n",
        "import pandas as pd\n",
        "import numpy as np\n",
        "from keras.datasets import mnist"
      ],
      "execution_count": 3,
      "outputs": [
        {
          "output_type": "stream",
          "text": [
            "Using TensorFlow backend.\n"
          ],
          "name": "stderr"
        }
      ]
    },
    {
      "cell_type": "markdown",
      "metadata": {
        "id": "_WYjjUpyG90M",
        "colab_type": "text"
      },
      "source": [
        "#Load the MNIST"
      ]
    },
    {
      "cell_type": "code",
      "metadata": {
        "id": "PHZatDtKFw6t",
        "colab_type": "code",
        "colab": {
          "base_uri": "https://localhost:8080/",
          "height": 51
        },
        "outputId": "67b8dbaf-9eaf-470c-b309-cf4d8530e7f6"
      },
      "source": [
        "(X_train, y_train), (X_test, y_test) = mnist.load_data() "
      ],
      "execution_count": 4,
      "outputs": [
        {
          "output_type": "stream",
          "text": [
            "Downloading data from https://s3.amazonaws.com/img-datasets/mnist.npz\n",
            "11493376/11490434 [==============================] - 0s 0us/step\n"
          ],
          "name": "stdout"
        }
      ]
    },
    {
      "cell_type": "code",
      "metadata": {
        "id": "fyuqTMXSF0Uj",
        "colab_type": "code",
        "colab": {}
      },
      "source": [
        "X_test = X_test.reshape(X_test.shape[0], 28, 28, 1)"
      ],
      "execution_count": 0,
      "outputs": []
    },
    {
      "cell_type": "markdown",
      "metadata": {
        "id": "qSuWxcfjHDDk",
        "colab_type": "text"
      },
      "source": [
        "#Load the CSV files"
      ]
    },
    {
      "cell_type": "code",
      "metadata": {
        "id": "1G_hmMgrIejS",
        "colab_type": "code",
        "colab": {}
      },
      "source": [
        "# the directory in which results are stored\n",
        "main_folder = \"/content/drive/My Drive/AI reproducibility/Machine Learning Platform/results\""
      ],
      "execution_count": 0,
      "outputs": []
    },
    {
      "cell_type": "code",
      "metadata": {
        "id": "KoVr72R2Igyd",
        "colab_type": "code",
        "outputId": "445bb0ea-c49e-4049-f27b-45a745561365",
        "colab": {
          "base_uri": "https://localhost:8080/",
          "height": 34
        }
      },
      "source": [
        "#getting the test labels\n",
        "file_name_test = main_folder + \"/\" + \"mnist_test.csv\"\n",
        "test_data = np.loadtxt(file_name_test, dtype=\"int\", delimiter=\",\", skiprows=1)\n",
        "test_labels = test_data[:,0]\n",
        "print(test_labels)"
      ],
      "execution_count": 7,
      "outputs": [
        {
          "output_type": "stream",
          "text": [
            "[7 2 1 ... 4 5 6]\n"
          ],
          "name": "stdout"
        }
      ]
    },
    {
      "cell_type": "code",
      "metadata": {
        "id": "wUpVVmUZIi7A",
        "colab_type": "code",
        "colab": {}
      },
      "source": [
        "platform_folder_comet = \"comet.ml\"\n",
        "platform_folder_coda = \"codalab\"\n",
        "platform_folder_floyd = \"floydhub\"\n",
        "platform_folder_kaggle = \"kaggle\""
      ],
      "execution_count": 0,
      "outputs": []
    },
    {
      "cell_type": "code",
      "metadata": {
        "id": "ms2MGorcfBzL",
        "colab_type": "code",
        "colab": {}
      },
      "source": [
        "experiment_folder1 = \"CPU\"\n",
        "experiment_folder2 = \"GPU\"\n",
        "seed_folder1 = \"seed\"\n",
        "seed_folder2 = \"no seed\""
      ],
      "execution_count": 0,
      "outputs": []
    },
    {
      "cell_type": "code",
      "metadata": {
        "id": "KEvxsQOufEk_",
        "colab_type": "code",
        "colab": {}
      },
      "source": [
        "folder_dir1_kaggle = main_folder+ \"/\" + platform_folder_kaggle + \"/\" + seed_folder1 + \"/\" + experiment_folder1\n",
        "folder_dir2_kaggle = main_folder+ \"/\" + platform_folder_kaggle + \"/\" + seed_folder1 + \"/\" + experiment_folder2\n",
        "folder_dir3_kaggle = main_folder+ \"/\" + platform_folder_kaggle + \"/\" + seed_folder2 + \"/\" + experiment_folder1\n",
        "folder_dir4_kaggle = main_folder+ \"/\" + platform_folder_kaggle + \"/\" + seed_folder2 + \"/\" + experiment_folder2\n",
        "\n",
        "folder_dir1_floyd = main_folder+ \"/\" + platform_folder_floyd + \"/\" + seed_folder1 + \"/\" + experiment_folder1\n",
        "folder_dir2_floyd = main_folder+ \"/\" + platform_folder_floyd + \"/\" + seed_folder1 + \"/\" + experiment_folder2\n",
        "folder_dir3_floyd = main_folder+ \"/\" + platform_folder_floyd + \"/\" + seed_folder2 + \"/\" + experiment_folder1\n",
        "folder_dir4_floyd = main_folder+ \"/\" + platform_folder_floyd + \"/\" + seed_folder2 + \"/\" + experiment_folder2\n",
        "\n",
        "folder_dir1_coda = main_folder+ \"/\" + platform_folder_coda + \"/\" + seed_folder1 + \"/\" + experiment_folder1\n",
        "folder_dir2_coda = main_folder+ \"/\" + platform_folder_coda + \"/\" + seed_folder1 + \"/\" + experiment_folder2\n",
        "folder_dir3_coda = main_folder+ \"/\" + platform_folder_coda + \"/\" + seed_folder2 + \"/\" + experiment_folder1\n",
        "folder_dir4_coda = main_folder+ \"/\" + platform_folder_coda + \"/\" + seed_folder2 + \"/\" + experiment_folder2\n",
        "\n",
        "# cometml on cpu and gpu like the rest of the experiments\n",
        "folder_dir1_comet_norm = main_folder+ \"/\" + platform_folder_comet + \"/\" + seed_folder1 + \"/\" + experiment_folder1\n",
        "folder_dir2_comet_norm = main_folder+ \"/\" + platform_folder_comet + \"/\" + seed_folder1 + \"/\" + experiment_folder2\n",
        "folder_dir3_comet_norm = main_folder+ \"/\" + platform_folder_comet + \"/\" + seed_folder2 + \"/\" + experiment_folder1\n",
        "folder_dir4_comet_norm = main_folder+ \"/\" + platform_folder_comet + \"/\" + seed_folder2 + \"/\" + experiment_folder2"
      ],
      "execution_count": 0,
      "outputs": []
    },
    {
      "cell_type": "code",
      "metadata": {
        "id": "oBn9EXrdfOT2",
        "colab_type": "code",
        "colab": {}
      },
      "source": [
        "# creating a list of csv files\n",
        "def make_list(folder_dir1):\n",
        "    folder_contents1 = os.listdir(folder_dir1)\n",
        "    image_list1 = []\n",
        "    for el in folder_contents1:\n",
        "        if el.endswith(\".csv\"):\n",
        "            file_name = str(folder_dir1) + \"/\" + str(el)\n",
        "            image = np.loadtxt(file_name, dtype=\"int\", delimiter=\",\", skiprows=1)\n",
        "            image_list1.append(image)\n",
        "    return(image_list1)"
      ],
      "execution_count": 0,
      "outputs": []
    },
    {
      "cell_type": "code",
      "metadata": {
        "id": "qnpIGcfkqdiy",
        "colab_type": "code",
        "colab": {}
      },
      "source": [
        "image_list1_kaggle = make_list(folder_dir1_kaggle)\n",
        "image_list2_kaggle = make_list(folder_dir2_kaggle)\n",
        "image_list3_kaggle = make_list(folder_dir3_kaggle)\n",
        "image_list4_kaggle = make_list(folder_dir4_kaggle)\n",
        "\n",
        "\n",
        "image_list1_comet = make_list(folder_dir1_comet_norm)\n",
        "image_list2_comet = make_list(folder_dir2_comet_norm)\n",
        "image_list3_comet = make_list(folder_dir3_comet_norm)\n",
        "image_list4_comet = make_list(folder_dir4_comet_norm)\n",
        "\n",
        "image_list1_floyd = make_list(folder_dir1_floyd)\n",
        "image_list2_floyd = make_list(folder_dir2_floyd)\n",
        "image_list3_floyd = make_list(folder_dir3_floyd)\n",
        "image_list4_floyd = make_list(folder_dir4_floyd)\n",
        "\n",
        "image_list1_coda = make_list(folder_dir1_coda)\n",
        "image_list2_coda = make_list(folder_dir2_coda)\n",
        "image_list3_coda = make_list(folder_dir3_coda)\n",
        "image_list4_coda = make_list(folder_dir4_coda)"
      ],
      "execution_count": 0,
      "outputs": []
    },
    {
      "cell_type": "markdown",
      "metadata": {
        "id": "GBlAnFm6-x9E",
        "colab_type": "text"
      },
      "source": [
        "#Making new numpy arrays\n",
        "## one for each experiment"
      ]
    },
    {
      "cell_type": "markdown",
      "metadata": {
        "id": "4trERb-B-8qs",
        "colab_type": "text"
      },
      "source": [
        "kaggle"
      ]
    },
    {
      "cell_type": "code",
      "metadata": {
        "id": "gvLaicIxsLXT",
        "colab_type": "code",
        "colab": {}
      },
      "source": [
        "# make a list of kaggels\n",
        "kaggle_temp = image_list1_kaggle + image_list2_kaggle + image_list3_kaggle + image_list4_kaggle\n",
        "\n",
        "# convert it to numpy array\n",
        "kaggle_temp = np.array(kaggle_temp)\n",
        "\n",
        "# make a new list []\n",
        "kaggle_arr = np.zeros((20,10000))\n",
        "kaggle_label = np.zeros((1,10000)) # 1.all agree  2. all disagree  3. between\n",
        "\n",
        "# the first 20 dim is the value\n",
        "kaggle_arr = kaggle_temp[:,:,1]"
      ],
      "execution_count": 0,
      "outputs": []
    },
    {
      "cell_type": "markdown",
      "metadata": {
        "id": "nxPZbg5n--ct",
        "colab_type": "text"
      },
      "source": [
        "comet"
      ]
    },
    {
      "cell_type": "code",
      "metadata": {
        "id": "sUJqqItx_I11",
        "colab_type": "code",
        "colab": {}
      },
      "source": [
        "# make a list of kaggels\n",
        "comet_temp = image_list1_comet + image_list2_comet + image_list3_comet + image_list4_comet\n",
        "\n",
        "# convert it to numpy array\n",
        "comet_temp = np.array(comet_temp)\n",
        "\n",
        "# make a new list []\n",
        "comet_arr = np.zeros((20,10000))\n",
        "comet_label = np.zeros((1,10000)) # 1.all agree  2. all disagree  3. between\n",
        "\n",
        "# the first 20 dim is the value\n",
        "comet_arr = comet_temp[:,:,1]"
      ],
      "execution_count": 0,
      "outputs": []
    },
    {
      "cell_type": "markdown",
      "metadata": {
        "id": "da9Fgr_l_Ks2",
        "colab_type": "text"
      },
      "source": [
        "floyd"
      ]
    },
    {
      "cell_type": "code",
      "metadata": {
        "id": "-9MaR4Gy_Mrl",
        "colab_type": "code",
        "colab": {}
      },
      "source": [
        "# make a list of kaggels\n",
        "floyd_temp = image_list1_floyd + image_list2_floyd + image_list3_floyd + image_list4_floyd\n",
        "\n",
        "# convert it to numpy array\n",
        "floyd_temp = np.array(floyd_temp)\n",
        "\n",
        "# make a new list []\n",
        "floyd_arr = np.zeros((20,10000))\n",
        "floyd_label = np.zeros((1,10000)) # 1.all agree  2. all disagree  3. between\n",
        "\n",
        "# the first 20 dim is the value\n",
        "floyd_arr = floyd_temp[:,:,1]"
      ],
      "execution_count": 0,
      "outputs": []
    },
    {
      "cell_type": "markdown",
      "metadata": {
        "id": "cGXOQQg3_Q4X",
        "colab_type": "text"
      },
      "source": [
        "coda"
      ]
    },
    {
      "cell_type": "code",
      "metadata": {
        "id": "t-uw-Gu6_Wzt",
        "colab_type": "code",
        "colab": {
          "base_uri": "https://localhost:8080/",
          "height": 51
        },
        "outputId": "f77856ef-ad16-4338-8da5-5af63d536fa1"
      },
      "source": [
        "# make a list of kaggels\n",
        "coda_temp = image_list1_coda + image_list2_coda + image_list3_coda + image_list4_coda\n",
        "print(len(image_list4_coda))\n",
        "print(len(coda_temp))\n",
        "# convert it to numpy array\n",
        "coda_temp = np.array(coda_temp)\n",
        "\n",
        "# make a new list []\n",
        "coda_arr = np.zeros((20,10000))\n",
        "coda_label = np.zeros((1,10000)) # 1.all agree  2. all disagree  3. between\n",
        "\n",
        "# the first 20 dim is the value\n",
        "coda_arr = coda_temp[:,:,1]"
      ],
      "execution_count": 16,
      "outputs": [
        {
          "output_type": "stream",
          "text": [
            "5\n",
            "20\n"
          ],
          "name": "stdout"
        }
      ]
    },
    {
      "cell_type": "markdown",
      "metadata": {
        "id": "vUBM4mcsE2LF",
        "colab_type": "text"
      },
      "source": [
        "all the experiments"
      ]
    },
    {
      "cell_type": "code",
      "metadata": {
        "id": "Q393xjivE4ua",
        "colab_type": "code",
        "colab": {
          "base_uri": "https://localhost:8080/",
          "height": 119
        },
        "outputId": "9e9b005f-b069-48e0-c0fb-13a1c9b2e303"
      },
      "source": [
        "all_arr = np.concatenate((coda_arr , floyd_arr , comet_arr , kaggle_arr))\n",
        "print(\"the shape of all_arr:\")\n",
        "print(all_arr.shape)\n",
        "print(\"the 18th result\")\n",
        "print(all_arr[:,18])"
      ],
      "execution_count": 17,
      "outputs": [
        {
          "output_type": "stream",
          "text": [
            "the shape of all_arr:\n",
            "(80, 10000)\n",
            "the 18th result\n",
            "[3 3 3 3 3 3 3 3 3 3 3 5 3 3 5 3 5 3 3 3 3 3 3 3 3 3 3 3 3 3 3 3 3 8 3 3 3\n",
            " 3 8 3 3 3 3 3 3 3 3 3 3 3 8 5 3 3 3 8 3 3 3 3 3 3 8 3 3 3 3 3 3 3 3 3 8 5\n",
            " 3 3 5 3 3 3]\n"
          ],
          "name": "stdout"
        }
      ]
    },
    {
      "cell_type": "markdown",
      "metadata": {
        "id": "x87BaJ7X_kz-",
        "colab_type": "text"
      },
      "source": [
        "# classification of results into 3 categories\n",
        "##0. agree and correct\n",
        "##1. agree and incorrect\n",
        "##2. disagree and correct"
      ]
    },
    {
      "cell_type": "code",
      "metadata": {
        "id": "S7v1n64ys39U",
        "colab_type": "code",
        "colab": {}
      },
      "source": [
        "def compare_risult(pred_arr, label):\n",
        "  counter = 0\n",
        "  l0 = []\n",
        "  l1 = []\n",
        "  l2 = []\n",
        "  data_class = np.zeros((1,pred_arr.shape[1])) # 1.all agree  2. all disagree  3. between\n",
        "  for i in range(pred_arr.shape[1]):\n",
        "    agree_flag = True\n",
        "    correct_flag = False\n",
        "    num_class = np.unique(pred_arr[:,i]).shape[0]\n",
        "    # if they dissagree together\n",
        "    if(num_class > 1):\n",
        "      agree_flag = False\n",
        "      correct_flag = False\n",
        "    \n",
        "    else:\n",
        "      agree_flag = True\n",
        "      # check if this is correct\n",
        "      if(pred_arr[0,i] == label[i]):\n",
        "        correct_flag = True\n",
        "      else:\n",
        "        correct_flag = False\n",
        "    \n",
        "    # classifiy:\n",
        "    if agree_flag and correct_flag:\n",
        "      data_class[0,i] = 0\n",
        "      l0.append(i)\n",
        "      # counter += 1\n",
        "    elif agree_flag and not correct_flag:\n",
        "      data_class[0,i] = 1\n",
        "      l1.append(i)\n",
        "      # counter += 1\n",
        "    else:\n",
        "      data_class[0,i] = 2\n",
        "      l2.append(i)\n",
        "      # counter += 1\n",
        "  return data_class, l0, l1, l2"
      ],
      "execution_count": 0,
      "outputs": []
    },
    {
      "cell_type": "code",
      "metadata": {
        "id": "CldYJrvj_euQ",
        "colab_type": "code",
        "colab": {}
      },
      "source": [
        "l0 = []\n",
        "l1 = []\n",
        "l2 = []\n",
        "\n",
        "kaggle_label , _, _, _   = compare_risult(kaggle_arr, test_labels)\n",
        "coda_label   , _, _, _   = compare_risult(coda_arr, test_labels)\n",
        "comet_label  , _, _, _   = compare_risult(comet_arr, test_labels)\n",
        "floyd_label  , _, _, _   = compare_risult(floyd_arr, test_labels)\n",
        "all_label    , l0, l1, l2   = compare_risult(all_arr, test_labels)"
      ],
      "execution_count": 0,
      "outputs": []
    },
    {
      "cell_type": "markdown",
      "metadata": {
        "id": "h1og2sXbMGyx",
        "colab_type": "text"
      },
      "source": [
        "save to csv file"
      ]
    },
    {
      "cell_type": "code",
      "metadata": {
        "id": "OZmB7eIH30Ri",
        "colab_type": "code",
        "colab": {
          "base_uri": "https://localhost:8080/",
          "height": 85
        },
        "outputId": "feb8c728-3e9f-4ad9-8288-0f5bbf1e91a9"
      },
      "source": [
        "x = np.array([[10,20,30], [40,50,60]])\n",
        "y = np.array([[100], [200]])\n",
        "\n",
        "print(x.shape)\n",
        "print(y.shape)\n",
        "print(np.append(x, y, axis=1))"
      ],
      "execution_count": 81,
      "outputs": [
        {
          "output_type": "stream",
          "text": [
            "(2, 3)\n",
            "(2, 1)\n",
            "[[ 10  20  30 100]\n",
            " [ 40  50  60 200]]\n"
          ],
          "name": "stdout"
        }
      ]
    },
    {
      "cell_type": "markdown",
      "metadata": {
        "id": "WahyDBQF5d4i",
        "colab_type": "text"
      },
      "source": [
        "all disagree"
      ]
    },
    {
      "cell_type": "code",
      "metadata": {
        "id": "TJebbvMKMJ2H",
        "colab_type": "code",
        "colab": {
          "base_uri": "https://localhost:8080/",
          "height": 153
        },
        "outputId": "1a1a0e6f-e00d-4aa5-e32b-33e4c78a93a5"
      },
      "source": [
        "all_agree_wrong = all_arr[:,l1].copy()\n",
        "all_agree_wrong = all_agree_wrong.transpose()\n",
        "print(all_agree_wrong.shape)\n",
        "l1_vec = np.array(l1)\n",
        "l1_vec = l1_vec.reshape(1,-1)\n",
        "l1_vec = l1_vec.transpose()\n",
        "print(l1_vec.shape)\n",
        "\n",
        "test_label_disagree = test_labels[l1].copy()\n",
        "# print(test_label_disagree)\n",
        "test_label_disagree = test_label_disagree.reshape(1,-1)\n",
        "test_label_disagree = test_label_disagree.transpose()\n",
        "\n",
        "lst_clm =  np.append(l1_vec, test_label_disagree , axis=1)\n",
        "disagree = np.append(all_agree_wrong, lst_clm,  axis=1) \n",
        "print(disagree.shape)\n",
        "print(disagree[0])\n",
        "np.savetxt(\"disagree.csv\", disagree, delimiter=\",\")"
      ],
      "execution_count": 106,
      "outputs": [
        {
          "output_type": "stream",
          "text": [
            "(8, 80)\n",
            "(8, 1)\n",
            "(8, 82)\n",
            "[  9   9   9   9   9   9   9   9   9   9   9   9   9   9   9   9   9   9\n",
            "   9   9   9   9   9   9   9   9   9   9   9   9   9   9   9   9   9   9\n",
            "   9   9   9   9   9   9   9   9   9   9   9   9   9   9   9   9   9   9\n",
            "   9   9   9   9   9   9   9   9   9   9   9   9   9   9   9   9   9   9\n",
            "   9   9   9   9   9   9   9   9 947   8]\n"
          ],
          "name": "stdout"
        }
      ]
    },
    {
      "cell_type": "markdown",
      "metadata": {
        "id": "L1orXZQ-5fzx",
        "colab_type": "text"
      },
      "source": [
        "some disagree"
      ]
    },
    {
      "cell_type": "code",
      "metadata": {
        "id": "kLUtQtcW5hZu",
        "colab_type": "code",
        "colab": {
          "base_uri": "https://localhost:8080/",
          "height": 119
        },
        "outputId": "d4fd1078-b24e-44ea-e954-129d41948554"
      },
      "source": [
        "some_agree_wrong = all_arr[:,l2].copy()\n",
        "some_agree_wrong = some_agree_wrong.transpose()\n",
        "print(some_agree_wrong.shape)\n",
        "l2_vec = np.array(l2)\n",
        "l2_vec = l2_vec.reshape(1,-1)\n",
        "l2_vec = l2_vec.transpose()\n",
        "print(l2_vec.shape)\n",
        "\n",
        "\n",
        "test_label_disagree = test_labels[l2].copy()\n",
        "# print(test_label_disagree)\n",
        "test_label_disagree = test_label_disagree.reshape(1,-1)\n",
        "test_label_disagree = test_label_disagree.transpose()\n",
        "\n",
        "lst_clm =  np.append(l2_vec, test_label_disagree , axis=1)\n",
        "disagree = np.append(some_agree_wrong, lst_clm,  axis=1) \n",
        "print(disagree[0])\n",
        "np.savetxt(\"some_disagree.csv\", disagree, delimiter=\",\")"
      ],
      "execution_count": 107,
      "outputs": [
        {
          "output_type": "stream",
          "text": [
            "(328, 80)\n",
            "(328, 1)\n",
            "[ 3  3  3  3  3  3  3  3  3  3  3  5  3  3  5  3  5  3  3  3  3  3  3  3\n",
            "  3  3  3  3  3  3  3  3  3  8  3  3  3  3  8  3  3  3  3  3  3  3  3  3\n",
            "  3  3  8  5  3  3  3  8  3  3  3  3  3  3  8  3  3  3  3  3  3  3  3  3\n",
            "  8  5  3  3  5  3  3  3 18  3]\n"
          ],
          "name": "stdout"
        }
      ]
    },
    {
      "cell_type": "code",
      "metadata": {
        "id": "LxhiZ4m431js",
        "colab_type": "code",
        "colab": {}
      },
      "source": [
        "def show_resutl(data_arr, label_arr, class_arr, mood=2):\n",
        "  for i in range(class_arr.shape[1]):\n",
        "    if class_arr[0,i] == mood:\n",
        "      print(\" ID: {:4d}  Data:{}  Label:{}\".format(i, data_arr[:,i], label_arr[i]))"
      ],
      "execution_count": 0,
      "outputs": []
    },
    {
      "cell_type": "code",
      "metadata": {
        "id": "M818RBwz7b9b",
        "colab_type": "code",
        "outputId": "01e80ca0-0b8e-4fbe-990b-11d8adb99e53",
        "colab": {
          "base_uri": "https://localhost:8080/",
          "height": 425
        }
      },
      "source": [
        "show_resutl(all_arr, test_labels, all_label, 1)"
      ],
      "execution_count": 60,
      "outputs": [
        {
          "output_type": "stream",
          "text": [
            " ID:  947  Data:[9 9 9 9 9 9 9 9 9 9 9 9 9 9 9 9 9 9 9 9 9 9 9 9 9 9 9 9 9 9 9 9 9 9 9 9 9\n",
            " 9 9 9 9 9 9 9 9 9 9 9 9 9 9 9 9 9 9 9 9 9 9 9 9 9 9 9 9 9 9 9 9 9 9 9 9 9\n",
            " 9 9 9 9 9 9]  Label:8\n",
            " ID: 1014  Data:[5 5 5 5 5 5 5 5 5 5 5 5 5 5 5 5 5 5 5 5 5 5 5 5 5 5 5 5 5 5 5 5 5 5 5 5 5\n",
            " 5 5 5 5 5 5 5 5 5 5 5 5 5 5 5 5 5 5 5 5 5 5 5 5 5 5 5 5 5 5 5 5 5 5 5 5 5\n",
            " 5 5 5 5 5 5]  Label:6\n",
            " ID: 1226  Data:[2 2 2 2 2 2 2 2 2 2 2 2 2 2 2 2 2 2 2 2 2 2 2 2 2 2 2 2 2 2 2 2 2 2 2 2 2\n",
            " 2 2 2 2 2 2 2 2 2 2 2 2 2 2 2 2 2 2 2 2 2 2 2 2 2 2 2 2 2 2 2 2 2 2 2 2 2\n",
            " 2 2 2 2 2 2]  Label:7\n",
            " ID: 2597  Data:[3 3 3 3 3 3 3 3 3 3 3 3 3 3 3 3 3 3 3 3 3 3 3 3 3 3 3 3 3 3 3 3 3 3 3 3 3\n",
            " 3 3 3 3 3 3 3 3 3 3 3 3 3 3 3 3 3 3 3 3 3 3 3 3 3 3 3 3 3 3 3 3 3 3 3 3 3\n",
            " 3 3 3 3 3 3]  Label:5\n",
            " ID: 2654  Data:[1 1 1 1 1 1 1 1 1 1 1 1 1 1 1 1 1 1 1 1 1 1 1 1 1 1 1 1 1 1 1 1 1 1 1 1 1\n",
            " 1 1 1 1 1 1 1 1 1 1 1 1 1 1 1 1 1 1 1 1 1 1 1 1 1 1 1 1 1 1 1 1 1 1 1 1 1\n",
            " 1 1 1 1 1 1]  Label:6\n",
            " ID: 3520  Data:[4 4 4 4 4 4 4 4 4 4 4 4 4 4 4 4 4 4 4 4 4 4 4 4 4 4 4 4 4 4 4 4 4 4 4 4 4\n",
            " 4 4 4 4 4 4 4 4 4 4 4 4 4 4 4 4 4 4 4 4 4 4 4 4 4 4 4 4 4 4 4 4 4 4 4 4 4\n",
            " 4 4 4 4 4 4]  Label:6\n",
            " ID: 4176  Data:[7 7 7 7 7 7 7 7 7 7 7 7 7 7 7 7 7 7 7 7 7 7 7 7 7 7 7 7 7 7 7 7 7 7 7 7 7\n",
            " 7 7 7 7 7 7 7 7 7 7 7 7 7 7 7 7 7 7 7 7 7 7 7 7 7 7 7 7 7 7 7 7 7 7 7 7 7\n",
            " 7 7 7 7 7 7]  Label:2\n",
            " ID: 9729  Data:[6 6 6 6 6 6 6 6 6 6 6 6 6 6 6 6 6 6 6 6 6 6 6 6 6 6 6 6 6 6 6 6 6 6 6 6 6\n",
            " 6 6 6 6 6 6 6 6 6 6 6 6 6 6 6 6 6 6 6 6 6 6 6 6 6 6 6 6 6 6 6 6 6 6 6 6 6\n",
            " 6 6 6 6 6 6]  Label:5\n"
          ],
          "name": "stdout"
        }
      ]
    },
    {
      "cell_type": "code",
      "metadata": {
        "id": "afXzxdZyF5ae",
        "colab_type": "code",
        "colab": {}
      },
      "source": [
        "def show_image_id(id):\n",
        "  plt.figure()\n",
        "  plt.imshow(X_test[id].reshape((28,28)))\n",
        "  plt.gray()\n",
        "  plt.show()"
      ],
      "execution_count": 0,
      "outputs": []
    },
    {
      "cell_type": "code",
      "metadata": {
        "id": "ZGsA6d7PF8Rz",
        "colab_type": "code",
        "outputId": "9662804a-6bb9-457f-a47c-5e668d19a5c1",
        "colab": {
          "base_uri": "https://localhost:8080/",
          "height": 265
        }
      },
      "source": [
        "show_image_id(9729)"
      ],
      "execution_count": 39,
      "outputs": [
        {
          "output_type": "display_data",
          "data": {
            "image/png": "[encoded data removed]",
            "text/plain": [
              "<Figure size 432x288 with 1 Axes>"
            ]
          },
          "metadata": {
            "tags": [],
            "needs_background": "light"
          }
        }
      ]
    },
    {
      "cell_type": "code",
      "metadata": {
        "id": "MN_cVMwoHYfi",
        "colab_type": "code",
        "colab": {
          "base_uri": "https://localhost:8080/",
          "height": 102
        },
        "outputId": "bf2733c1-928a-4802-9d1e-e2a8175e155b"
      },
      "source": [
        "num_class = np.unique(all_arr[:,9664]).shape[0]\n",
        "print(num_class)\n",
        "print(np.unique(all_arr[:,9664]))\n",
        "print(all_arr[:,9664])"
      ],
      "execution_count": 53,
      "outputs": [
        {
          "output_type": "stream",
          "text": [
            "2\n",
            "[2 7]\n",
            "[7 7 7 7 7 7 7 7 7 7 7 7 7 7 7 7 7 7 7 7 7 7 7 7 7 7 7 7 7 7 7 7 2 2 7 2 7\n",
            " 2 2 7 7 7 7 7 7 7 7 2 7 7 2 7 2 2 7 2 7 7 2 2 7 7 7 7 7 2 7 7 7 7 7 7 7 7\n",
            " 7 7 2 7 2 7]\n"
          ],
          "name": "stdout"
        }
      ]
    },
    {
      "cell_type": "code",
      "metadata": {
        "id": "0uQ6dCDIKB4N",
        "colab_type": "code",
        "colab": {}
      },
      "source": [
        ""
      ],
      "execution_count": 0,
      "outputs": []
    }
  ]
}